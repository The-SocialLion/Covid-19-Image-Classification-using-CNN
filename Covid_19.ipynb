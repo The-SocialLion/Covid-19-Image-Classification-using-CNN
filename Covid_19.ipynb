{
  "nbformat": 4,
  "nbformat_minor": 0,
  "metadata": {
    "colab": {
      "name": "Covid-19.ipynb",
      "provenance": []
    },
    "kernelspec": {
      "name": "python3",
      "display_name": "Python 3"
    },
    "language_info": {
      "name": "python"
    }
  },
  "cells": [
    {
      "cell_type": "code",
      "metadata": {
        "id": "FAhbwgOnEQIx"
      },
      "source": [
        "import numpy as np\n",
        "import pandas as pd\n",
        "import matplotlib.pyplot as plt\n",
        "import tensorflow as tf\n",
        "import zipfile \n",
        "from PIL import Image,ImageOps"
      ],
      "execution_count": 8,
      "outputs": []
    },
    {
      "cell_type": "code",
      "metadata": {
        "id": "U9NZW6oeFFwH"
      },
      "source": [
        "zip = zipfile.ZipFile('archive.zip')\n",
        "zip.extractall()"
      ],
      "execution_count": null,
      "outputs": []
    },
    {
      "cell_type": "code",
      "metadata": {
        "id": "85BreMqTKcT2"
      },
      "source": [
        "from tensorflow.keras.models import Sequential # creating DLL structure model\n",
        "from tensorflow.keras.layers import Conv2D# using 2 dimensional convolution filter\n",
        "from tensorflow.keras.layers import MaxPooling2D# using 2-D max pooling filters\n",
        "from tensorflow.keras.layers import Flatten# used for flattening the result array/image\n",
        "from tensorflow.keras.layers import Dense# used for creating/declaring neurons\n",
        "from tensorflow.keras.preprocessing.image import ImageDataGenerator# importing function"
      ],
      "execution_count": 14,
      "outputs": []
    },
    {
      "cell_type": "code",
      "metadata": {
        "colab": {
          "base_uri": "https://localhost:8080/"
        },
        "id": "ss-yxZ_DLc6d",
        "outputId": "6f8cb306-5f0a-4a20-b782-0a05d603c173"
      },
      "source": [
        "model=Sequential()\n",
        "model.add(Conv2D(32,(3,3),input_shape = (64,64,3),activation = 'relu'))# defining 2-D convolution filter\n",
        "model.add(MaxPooling2D(pool_size=(2,2)))# defining 2-D maxpooling filter\n",
        "model.add(Flatten())# flattening result\n",
        "model.add(Dense(units=2500,activation='relu'))# structuring input model of ANN\n",
        "model.add(Dense(units=1,activation='sigmoid'))#structuring ouytput model of ANN\n",
        "model.compile(optimizer='adam',loss='binary_crossentropy',metrics=['accuracy'])# optimising model\n",
        "# preprocessing image in dataset\n",
        "train_datagen=ImageDataGenerator(rescale=1./255,shear_range=0.2,zoom_range=0.2,horizontal_flip=True)\n",
        "val_datagen=ImageDataGenerator(rescale=1./255)# testing dataset\n",
        "#accesing the images in the dataset via sub folders train,val\n",
        "training_set=train_datagen.flow_from_directory('/content/xray_dataset_covid19/train',target_size=(64,64),batch_size=10,class_mode='binary')\n",
        "val_set=val_datagen.flow_from_directory('/content/xray_dataset_covid19/valid',target_size=(64,64),batch_size=10,class_mode='binary')\n",
        "history=model.fit(training_set,steps_per_epoch=15,epochs=5,validation_data=val_set,validation_steps=2)\n",
        "# saving the model\n",
        "model.save('Covid-19.h5')"
      ],
      "execution_count": 28,
      "outputs": [
        {
          "output_type": "stream",
          "text": [
            "Found 148 images belonging to 2 classes.\n",
            "Found 40 images belonging to 2 classes.\n",
            "Epoch 1/5\n",
            "15/15 [==============================] - 14s 860ms/step - loss: 4.7456 - accuracy: 0.5987 - val_loss: 0.2852 - val_accuracy: 0.9000\n",
            "Epoch 2/5\n",
            "15/15 [==============================] - 13s 828ms/step - loss: 0.4367 - accuracy: 0.8157 - val_loss: 0.2984 - val_accuracy: 0.8500\n",
            "Epoch 3/5\n",
            "15/15 [==============================] - 13s 829ms/step - loss: 0.4055 - accuracy: 0.7882 - val_loss: 0.0728 - val_accuracy: 1.0000\n",
            "Epoch 4/5\n",
            "15/15 [==============================] - 13s 865ms/step - loss: 0.3509 - accuracy: 0.8070 - val_loss: 0.2241 - val_accuracy: 0.8500\n",
            "Epoch 5/5\n",
            "15/15 [==============================] - 13s 833ms/step - loss: 0.2559 - accuracy: 0.9127 - val_loss: 0.0935 - val_accuracy: 1.0000\n"
          ],
          "name": "stdout"
        }
      ]
    },
    {
      "cell_type": "code",
      "metadata": {
        "colab": {
          "base_uri": "https://localhost:8080/",
          "height": 590
        },
        "id": "ihvAblHRLvvP",
        "outputId": "705d117e-4d26-4e83-eaf0-d23bb5143741"
      },
      "source": [
        "#plotting the values\n",
        "plt.figure(0)\n",
        "plt.plot(history.history['accuracy'], label='training accuracy')\n",
        "plt.plot(history.history['val_accuracy'], label='val accuracy')\n",
        "plt.title('Accuracy')\n",
        "plt.xlabel('epochs')\n",
        "plt.ylabel('accuracy')\n",
        "plt.legend()\n",
        "plt.savefig('Accuracy.png')\n",
        "\n",
        "plt.figure(1)\n",
        "plt.plot(history.history['loss'], label='training loss')\n",
        "plt.plot(history.history['val_loss'], label='val loss')\n",
        "plt.title('Loss')\n",
        "plt.xlabel('epochs')\n",
        "plt.ylabel('loss')\n",
        "plt.legend()\n",
        "plt.savefig('Loss.png')\n",
        "print(\"Saved Model & Graph to disk\")\n"
      ],
      "execution_count": 29,
      "outputs": [
        {
          "output_type": "stream",
          "text": [
            "Saved Model & Graph to disk\n"
          ],
          "name": "stdout"
        },
        {
          "output_type": "display_data",
          "data": {
            "image/png": "[encoded data removed]",
            "text/plain": [
              "<Figure size 432x288 with 1 Axes>"
            ]
          },
          "metadata": {
            "tags": [],
            "needs_background": "light"
          }
        },
        {
          "output_type": "display_data",
          "data": {
            "image/png": "[encoded data removed]",
            "text/plain": [
              "<Figure size 432x288 with 1 Axes>"
            ]
          },
          "metadata": {
            "tags": [],
            "needs_background": "light"
          }
        }
      ]
    },
    {
      "cell_type": "code",
      "metadata": {
        "id": "CJB9SgACSegb"
      },
      "source": [
        "zip = zipfile.ZipFile('Test.zip')\n",
        "zip.extractall()"
      ],
      "execution_count": 36,
      "outputs": []
    },
    {
      "cell_type": "code",
      "metadata": {
        "id": "d5MXp5heRGbT"
      },
      "source": [
        "from tensorflow.keras.models import model_from_json # used to import model\n",
        "from tensorflow.keras.models import load_model\n",
        "import numpy as np\n",
        "import sys\n",
        "from tensorflow.keras.preprocessing import image# used for preproccesing"
      ],
      "execution_count": 37,
      "outputs": []
    },
    {
      "cell_type": "code",
      "metadata": {
        "colab": {
          "base_uri": "https://localhost:8080/"
        },
        "id": "6lAT6IhQRNIR",
        "outputId": "c95ab1e5-0635-44cf-9cd8-d170c93e8ce2"
      },
      "source": [
        "model=load_model('Covid-19.h5')\n",
        "print(\"loaded model from disk\")"
      ],
      "execution_count": 38,
      "outputs": [
        {
          "output_type": "stream",
          "text": [
            "loaded model from disk\n"
          ],
          "name": "stdout"
        }
      ]
    },
    {
      "cell_type": "code",
      "metadata": {
        "id": "w34A7_MrL-9i"
      },
      "source": [
        "#classification of images\n",
        "def classify(img_file):\n",
        "    img_name=img_file\n",
        "    test_image=image.load_img(img_name,target_size=(64,64))\n",
        "    test_image=image.img_to_array(test_image)\n",
        "    test_image=np.expand_dims(test_image,axis=0)\n",
        "    result=model.predict(test_image)\n",
        "\n",
        "    if result[0][0]==1:\n",
        "        prediction='Pneumonia'\n",
        "        print(\"\\n In this{0}the result is{1}!\".format(img_name,prediction))    \n",
        "    else:\n",
        "        prediction='Normal'\n",
        "        print(\"\\n In this{0}the result is{1}!\".format(img_name,prediction))\n",
        "\n"
      ],
      "execution_count": 41,
      "outputs": []
    },
    {
      "cell_type": "code",
      "metadata": {
        "colab": {
          "base_uri": "https://localhost:8080/"
        },
        "id": "fETQ5D4LMsTy",
        "outputId": "0d3e50f8-6dc7-486d-e5a1-5b1e680185e6"
      },
      "source": [
        "    \n",
        "#storing the images in this folder\n",
        "path='/content/Test'\n",
        "files=[]\n",
        "# r=root,d=directories,f=files\n",
        "for r,d,f in os.walk(path):\n",
        "  for file in f:\n",
        "        if '.jpeg' or '.jpg' or '.png' or '.JPEG' in file:\n",
        "            files.append(os.path.join(r,file))\n",
        "for f in files:\n",
        "  classify(f)"
      ],
      "execution_count": 46,
      "outputs": [
        {
          "output_type": "stream",
          "text": [
            "\n",
            " In this/content/Test/8.jpegthe result isPneumonia!\n",
            "\n",
            " In this/content/Test/2.jpegthe result isPneumonia!\n",
            "\n",
            " In this/content/Test/4.jpegthe result isPneumonia!\n",
            "\n",
            " In this/content/Test/9.jpegthe result isNormal!\n",
            "\n",
            " In this/content/Test/7.jpegthe result isNormal!\n",
            "\n",
            " In this/content/Test/5.jpegthe result isNormal!\n",
            "\n",
            " In this/content/Test/1.jpegthe result isNormal!\n",
            "\n",
            " In this/content/Test/3.jpegthe result isNormal!\n",
            "\n",
            " In this/content/Test/10.jpegthe result isNormal!\n",
            "\n",
            " In this/content/Test/6.jpegthe result isPneumonia!\n"
          ],
          "name": "stdout"
        }
      ]
    }
  ]
}